{
  "nbformat": 4,
  "nbformat_minor": 0,
  "metadata": {
    "colab": {
      "provenance": []
    },
    "kernelspec": {
      "name": "python3",
      "display_name": "Python 3"
    },
    "language_info": {
      "name": "python"
    }
  },
  "cells": [
    {
      "cell_type": "markdown",
      "source": [
        "# **Python Basic**"
      ],
      "metadata": {
        "id": "8wo6h21z7X91"
      }
    },
    {
      "cell_type": "markdown",
      "source": [
        "Python is a popular programming language. It was created by Guido van Rossum, and released in 1991."
      ],
      "metadata": {
        "id": "wnZNPwDC-BMU"
      }
    },
    {
      "cell_type": "markdown",
      "source": [
        "**Why Python?**\n",
        "\n",
        "* Python works on different platforms (Windows, Mac, Linux, Raspberry Pi, etc).\n",
        "* Python has a simple syntax similar to the English language.\n",
        "* Python has syntax that allows developers to write programs with fewer lines.\n",
        "* Python runs on an interpreter system, meaning that code can be executed as soon as it is written.\n",
        "* Python can be treated in a procedural way, an object-oriented way or a functional way."
      ],
      "metadata": {
        "id": "WoOzLngU_Tes"
      }
    },
    {
      "cell_type": "markdown",
      "source": [
        "## **Python Syntax**\n",
        "\n",
        "**Python Indentation**:\n",
        "* Indentation refers to the spaces at the beginning of a code line.\n",
        "* Python uses indentation to indicate a block of code.\n",
        "* The number of spaces is up to you as a programmer, the most common use is four, but it has to be at least one.\n",
        "* You have to use the same number of spaces in the same block of code, otherwise Python will give you an error"
      ],
      "metadata": {
        "id": "9pNTJ9VTABVE"
      }
    },
    {
      "cell_type": "markdown",
      "source": [
        "## **Comments**\n",
        "\n",
        "Python has commenting capability for the purpose of in-code documentation.\n",
        "\n",
        "Comments start with a #, and Python will render the rest of the line as a comment.\n",
        "\n",
        "Comments can be used to explain Python code.\n",
        "\n",
        "Comments can be used to make the code more readable.\n",
        "\n",
        "Comments can be used to prevent execution when testing code."
      ],
      "metadata": {
        "id": "7B1IU_hoEUP8"
      }
    },
    {
      "cell_type": "code",
      "source": [
        "#This is a comment.\n",
        "print(\"Hello, World!\")"
      ],
      "metadata": {
        "colab": {
          "base_uri": "https://localhost:8080/"
        },
        "id": "g98V-nTaEOE4",
        "outputId": "30cb48e5-d6eb-4929-d7ab-bd643c44621e"
      },
      "execution_count": null,
      "outputs": [
        {
          "output_type": "stream",
          "name": "stdout",
          "text": [
            "Hello, World!\n"
          ]
        }
      ]
    },
    {
      "cell_type": "markdown",
      "source": [
        "**Multiline Comments**\n",
        "\n",
        "To add a multiline comment you could insert a # for each line"
      ],
      "metadata": {
        "id": "eVV8eroBJP1d"
      }
    },
    {
      "cell_type": "code",
      "source": [
        "#This is a comment\n",
        "#written in\n",
        "#more than just one line\n",
        "print(\"Hello, World!\")"
      ],
      "metadata": {
        "colab": {
          "base_uri": "https://localhost:8080/"
        },
        "id": "F3MWxzm5Ekf-",
        "outputId": "1bb88256-5ab2-4782-a8ae-c827a3a50607"
      },
      "execution_count": null,
      "outputs": [
        {
          "output_type": "stream",
          "name": "stdout",
          "text": [
            "Hello, World!\n"
          ]
        }
      ]
    },
    {
      "cell_type": "markdown",
      "source": [
        "Since Python will ignore string literals that are not assigned to a variable, you can add a multiline string (triple quotes) in your code, and place your comment inside it."
      ],
      "metadata": {
        "id": "SWp2-PZLJ2tj"
      }
    },
    {
      "cell_type": "code",
      "source": [
        "\"\"\"\n",
        "This is a comment\n",
        "written in\n",
        "more than just one line\n",
        "\"\"\"\n",
        "print(\"Hello, World!\")"
      ],
      "metadata": {
        "colab": {
          "base_uri": "https://localhost:8080/"
        },
        "id": "mFnb-E8KJq2g",
        "outputId": "d45a6949-6ae1-4603-b868-33dcfe0bfd5e"
      },
      "execution_count": null,
      "outputs": [
        {
          "output_type": "stream",
          "name": "stdout",
          "text": [
            "Hello, World!\n"
          ]
        }
      ]
    },
    {
      "cell_type": "markdown",
      "source": [
        "**Python Variables**\n",
        "\n",
        "Variables are containers for storing data values.A variable is created the moment you first assign a value to it.\n"
      ],
      "metadata": {
        "id": "xwsj6OleKJ7q"
      }
    },
    {
      "cell_type": "code",
      "source": [
        "x = 5\n",
        "y = \"John\"\n",
        "print(x)\n",
        "print(y)"
      ],
      "metadata": {
        "id": "vFNk0xPaJ8Mh",
        "colab": {
          "base_uri": "https://localhost:8080/"
        },
        "outputId": "44cbc58e-d557-4bcd-f448-906d4d9a9add"
      },
      "execution_count": null,
      "outputs": [
        {
          "output_type": "stream",
          "name": "stdout",
          "text": [
            "5\n",
            "John\n"
          ]
        }
      ]
    },
    {
      "cell_type": "markdown",
      "source": [
        "**Casting**\n",
        "\n",
        "If you want to specify the data type of a variable, this can be done with casting."
      ],
      "metadata": {
        "id": "So63rZ3iuSUP"
      }
    },
    {
      "cell_type": "code",
      "source": [
        "x = str(3)    # x will be '3'\n",
        "y = int(3)    # y will be 3\n",
        "z = float(3)  # z will be 3.0"
      ],
      "metadata": {
        "id": "S4a1UhYnuFwP"
      },
      "execution_count": null,
      "outputs": []
    },
    {
      "cell_type": "code",
      "source": [
        "print(z)"
      ],
      "metadata": {
        "colab": {
          "base_uri": "https://localhost:8080/"
        },
        "id": "_MlJznKtueNG",
        "outputId": "7b7701f9-7a63-421f-8389-25661546bfcf"
      },
      "execution_count": null,
      "outputs": [
        {
          "output_type": "stream",
          "name": "stdout",
          "text": [
            "3.0\n"
          ]
        }
      ]
    },
    {
      "cell_type": "markdown",
      "source": [
        "**Get the Type**\n",
        "\n",
        "You can get the data type of a variable with the type() function."
      ],
      "metadata": {
        "id": "LzklG3kUuq6B"
      }
    },
    {
      "cell_type": "code",
      "source": [
        "x = 5\n",
        "y = \"John\"\n",
        "print(type(x))\n",
        "print(type(y))"
      ],
      "metadata": {
        "colab": {
          "base_uri": "https://localhost:8080/"
        },
        "id": "EWPUDZpjuxkb",
        "outputId": "e7993f6b-959d-4f67-d3a3-c3a7e00c6c45"
      },
      "execution_count": null,
      "outputs": [
        {
          "output_type": "stream",
          "name": "stdout",
          "text": [
            "<class 'int'>\n",
            "<class 'str'>\n"
          ]
        }
      ]
    },
    {
      "cell_type": "markdown",
      "source": [
        "**Single or Double Quotes?**\n",
        "\n",
        "String variables can be declared either by using single or double quotes."
      ],
      "metadata": {
        "id": "nIrL0jVFu6V5"
      }
    },
    {
      "cell_type": "code",
      "source": [
        "x = \"John\"\n",
        "# is the same as\n",
        "x = 'John'"
      ],
      "metadata": {
        "id": "1M_xatu7u0er"
      },
      "execution_count": null,
      "outputs": []
    },
    {
      "cell_type": "markdown",
      "source": [
        "**Case-Sensitive**\n",
        "\n",
        "Variable names are case-sensitive."
      ],
      "metadata": {
        "id": "X5qmFEwsvHc5"
      }
    },
    {
      "cell_type": "code",
      "source": [
        "a = 4\n",
        "A = \"Sally\"\n",
        "#A will not overwrite a"
      ],
      "metadata": {
        "id": "lwNx_SWQvAFf"
      },
      "execution_count": null,
      "outputs": []
    },
    {
      "cell_type": "markdown",
      "source": [
        "**Variable Names**\n",
        "\n",
        "A variable can have a short name (like x and y) or a more descriptive name (age, carname, total_volume).\n",
        "\n",
        "**Rules for Python variables:**\n",
        "\n",
        "* A variable name must start with a letter or the underscore character\n",
        "* A variable name cannot start with a number\n",
        "* A variable name can only contain alpha-numeric characters and underscores (A-z, 0-9, and _ )\n",
        "* Variable names are case-sensitive (age, Age and AGE are three different variables)\n",
        "* A variable name cannot be any of the Python keywords."
      ],
      "metadata": {
        "id": "lRnStcYzvtNC"
      }
    },
    {
      "cell_type": "markdown",
      "source": [
        "**Python Keywords :**\n",
        "\n",
        "* and\t- A logical operator\n",
        "* as -\tTo create an alias\n",
        "* assert -\tFor debugging\n",
        "* break\t- To break out of a loop\n",
        "* class\t- To define a class\n",
        "* continue - To continue to the next iteration of a loop\n",
        "* def -\tTo define a function\n",
        "* del\t- To delete an object\n",
        "* elif - Used in conditional statements, same as else if\n",
        "* else\t- Used in conditional statements\n",
        "* except\t- Used with exceptions, what to do when an exception occurs\n",
        "* False\t- Boolean value, result of comparison operations\n",
        "* finally -\tUsed with exceptions, a block of code that will be executed no matter if there is an exception or not\n",
        "* for\t- To create a for loop\n",
        "* from\t- To import specific parts of a module\n",
        "* global\t- To declare a global variable\n",
        "* if -\tTo make a conditional statement\n",
        "* import\t- To import a module\n",
        "* in\t- To check if a value is present in a list, tuple, etc.\n",
        "* is -\tTo test if two variables are equal\n",
        "* lambda\t- To create an anonymous function\n",
        "* None -\tRepresents a null value\n",
        "* nonlocal\t- To declare a non-local variable\n",
        "* not\t- A logical operator\n",
        "* or\t- A logical operator\n",
        "* pass\t- A null statement, a statement that will do nothing\n",
        "* raise\t- To raise an exception\n",
        "* return -\tTo exit a function and return a value\n",
        "* True\t- Boolean value, result of comparison operations\n",
        "* try\t- To make a try...except statement\n",
        "* while\t- To create a while loop\n",
        "* with\t- Used to simplify exception handling\n",
        "* yield\t- To end a function, returns a generator"
      ],
      "metadata": {
        "id": "vxqA3WyCwohh"
      }
    },
    {
      "cell_type": "markdown",
      "source": [
        "**Legal variable names:**"
      ],
      "metadata": {
        "id": "9pxgc4fuy4tK"
      }
    },
    {
      "cell_type": "code",
      "source": [
        "myvar = \"John\"\n",
        "my_var = \"John\"\n",
        "_my_var = \"John\"\n",
        "myVar = \"John\"\n",
        "MYVAR = \"John\"\n",
        "myvar2 = \"John\""
      ],
      "metadata": {
        "id": "IiCgeFSEvXmD"
      },
      "execution_count": null,
      "outputs": []
    },
    {
      "cell_type": "markdown",
      "source": [
        "**Multi Words Variable Names:**\n",
        "\n",
        "Variable names with more than one word can be difficult to read.\n",
        "\n",
        "There are several techniques you can use to make them more readable:"
      ],
      "metadata": {
        "id": "7DJzZ-1szNOB"
      }
    },
    {
      "cell_type": "markdown",
      "source": [
        "* **Camel Case**: Each word, except the first, starts with a capital letter."
      ],
      "metadata": {
        "id": "LyKZXeqxzcVA"
      }
    },
    {
      "cell_type": "code",
      "source": [
        "myVariableName = \"John\""
      ],
      "metadata": {
        "id": "t8zVOkTRzFxx"
      },
      "execution_count": null,
      "outputs": []
    },
    {
      "cell_type": "markdown",
      "source": [
        "* **Pascal Case:** Each word starts with a capital letter."
      ],
      "metadata": {
        "id": "yLyDCIocznVo"
      }
    },
    {
      "cell_type": "code",
      "source": [
        "MyVariableName = \"John\""
      ],
      "metadata": {
        "id": "gC8YRa9tzmed"
      },
      "execution_count": null,
      "outputs": []
    },
    {
      "cell_type": "markdown",
      "source": [
        "* **Snake Case**:Each word is separated by an underscore character."
      ],
      "metadata": {
        "id": "mXeYp21Yz30w"
      }
    },
    {
      "cell_type": "code",
      "source": [
        "my_variable_name = \"John\""
      ],
      "metadata": {
        "id": "gKbKdZDHzzvp"
      },
      "execution_count": null,
      "outputs": []
    },
    {
      "cell_type": "markdown",
      "source": [
        "**Many Values to Multiple Variables**-\n",
        "Python allows you to assign values to multiple variables in one line."
      ],
      "metadata": {
        "id": "SqMWeg0Y0L3Y"
      }
    },
    {
      "cell_type": "code",
      "source": [
        "x, y, z = \"Orange\", \"Banana\", \"Cherry\"\n",
        "print(x)\n",
        "print(y)\n",
        "print(z)"
      ],
      "metadata": {
        "colab": {
          "base_uri": "https://localhost:8080/"
        },
        "id": "Fon7rJzw0BRT",
        "outputId": "d532e11c-2040-41e7-c4d1-2271ad3794d5"
      },
      "execution_count": null,
      "outputs": [
        {
          "output_type": "stream",
          "name": "stdout",
          "text": [
            "Orange\n",
            "Banana\n",
            "Cherry\n"
          ]
        }
      ]
    },
    {
      "cell_type": "markdown",
      "source": [
        "**One Value to Multiple Variables** -\n",
        "You can assign the same value to multiple variables in one line."
      ],
      "metadata": {
        "id": "VgUmknvr1Pp5"
      }
    },
    {
      "cell_type": "code",
      "source": [
        "x = y = z = \"Orange\"\n",
        "print(x)\n",
        "print(y)\n",
        "print(z)"
      ],
      "metadata": {
        "colab": {
          "base_uri": "https://localhost:8080/"
        },
        "id": "WAkOmDow0jsv",
        "outputId": "f821df02-9e9d-4cb8-9ddc-c6cd471436c5"
      },
      "execution_count": null,
      "outputs": [
        {
          "output_type": "stream",
          "name": "stdout",
          "text": [
            "Orange\n",
            "Orange\n",
            "Orange\n"
          ]
        }
      ]
    },
    {
      "cell_type": "markdown",
      "source": [
        "**Unpack a Collection**\n",
        "\n",
        "If you have a collection of values in a list, tuple etc. Python allows you to extract the values into variables. This is called **unpacking**."
      ],
      "metadata": {
        "id": "goENLam21jdg"
      }
    },
    {
      "cell_type": "code",
      "source": [
        "fruits = [\"apple\", \"banana\", \"cherry\"]\n",
        "x, y, z = fruits\n",
        "print(x)\n",
        "print(y)\n",
        "print(z)"
      ],
      "metadata": {
        "colab": {
          "base_uri": "https://localhost:8080/"
        },
        "id": "UQFbur6e1bBp",
        "outputId": "847ab313-ec8f-4ca4-b8b4-ba771de4d3ea"
      },
      "execution_count": null,
      "outputs": [
        {
          "output_type": "stream",
          "name": "stdout",
          "text": [
            "apple\n",
            "banana\n",
            "cherry\n"
          ]
        }
      ]
    },
    {
      "cell_type": "markdown",
      "source": [
        "**Output Variables**"
      ],
      "metadata": {
        "id": "ju14uDVF2FfZ"
      }
    },
    {
      "cell_type": "markdown",
      "source": [
        "In the print() function, you output multiple variables, separated by a comma."
      ],
      "metadata": {
        "id": "lBunnclh2NHB"
      }
    },
    {
      "cell_type": "code",
      "source": [
        "x = \"Python\"\n",
        "y = \"is\"\n",
        "z = \"awesome\"\n",
        "print(x, y, z)"
      ],
      "metadata": {
        "colab": {
          "base_uri": "https://localhost:8080/"
        },
        "id": "qO-OFl1z1thf",
        "outputId": "cdadec1c-c63c-461a-ca7b-6805c06ca5f3"
      },
      "execution_count": null,
      "outputs": [
        {
          "output_type": "stream",
          "name": "stdout",
          "text": [
            "Python is awesome\n"
          ]
        }
      ]
    },
    {
      "cell_type": "markdown",
      "source": [
        "You can also use the **+** operator to output multiple variables"
      ],
      "metadata": {
        "id": "x464hu6Z2YSh"
      }
    },
    {
      "cell_type": "code",
      "source": [
        "x = \"Python \"\n",
        "y = \"is \"\n",
        "z = \"awesome\"\n",
        "print(x + y + z)"
      ],
      "metadata": {
        "colab": {
          "base_uri": "https://localhost:8080/"
        },
        "id": "aq0Q0mLR2Ruf",
        "outputId": "e7af7e3a-6a60-4cc6-d7fe-f932894040b5"
      },
      "execution_count": null,
      "outputs": [
        {
          "output_type": "stream",
          "name": "stdout",
          "text": [
            "Python is awesome\n"
          ]
        }
      ]
    },
    {
      "cell_type": "markdown",
      "source": [
        "Notice the **space character** after \"Python \" and \"is \", without them the result would be \"Pythonisawesome\"."
      ],
      "metadata": {
        "id": "Gr0oG-C92m9w"
      }
    },
    {
      "cell_type": "markdown",
      "source": [
        "In the print() function, when you try to combine a string and a number with the **+** operator, Python will give an error."
      ],
      "metadata": {
        "id": "Ooj5cU20ANhu"
      }
    },
    {
      "cell_type": "markdown",
      "source": [
        "**Global Variables**\n",
        "\n",
        "Variables that are created outside of a function are known as global variables.\n",
        "Global variables can be used by everyone, both inside of functions and outside."
      ],
      "metadata": {
        "id": "cX9qpLRyBBev"
      }
    },
    {
      "cell_type": "code",
      "source": [
        "x = \"awesome\"\n",
        "\n",
        "def myfunc():\n",
        "  print(\"Python is \" + x)\n",
        "\n",
        "myfunc()"
      ],
      "metadata": {
        "colab": {
          "base_uri": "https://localhost:8080/"
        },
        "id": "w4jqYWi82ens",
        "outputId": "161156be-31eb-4934-bd26-519801f412e3"
      },
      "execution_count": null,
      "outputs": [
        {
          "output_type": "stream",
          "name": "stdout",
          "text": [
            "Python is awesome\n"
          ]
        }
      ]
    },
    {
      "cell_type": "markdown",
      "source": [
        "If you create a variable with the same name inside a function, this variable will be local, and can only be used inside the function. The global variable with the same name will remain as it was."
      ],
      "metadata": {
        "id": "dTL11YsRByxA"
      }
    },
    {
      "cell_type": "code",
      "source": [
        "x = \"awesome\"\n",
        "\n",
        "def myfunc():\n",
        "  x = \"fantastic\"\n",
        "  print(\"Python is \" + x)\n",
        "\n",
        "myfunc()\n",
        "\n",
        "print(\"Python is \" + x)"
      ],
      "metadata": {
        "colab": {
          "base_uri": "https://localhost:8080/"
        },
        "id": "ze6EihUWBWsY",
        "outputId": "70d45057-b1bc-4476-e258-ca25243ca129"
      },
      "execution_count": null,
      "outputs": [
        {
          "output_type": "stream",
          "name": "stdout",
          "text": [
            "Python is fantastic\n",
            "Python is awesome\n"
          ]
        }
      ]
    },
    {
      "cell_type": "markdown",
      "source": [
        "**The global Keyword**\n",
        "\n",
        "To create a global variable inside a function, you can use the global keyword."
      ],
      "metadata": {
        "id": "ksSHSRZLCNzu"
      }
    },
    {
      "cell_type": "code",
      "source": [
        "def myfunc():\n",
        "  global x\n",
        "  x = \"fantastic\"\n",
        "\n",
        "myfunc()\n",
        "\n",
        "print(\"Python is \" + x)"
      ],
      "metadata": {
        "colab": {
          "base_uri": "https://localhost:8080/"
        },
        "id": "w3BiAhCeBkz3",
        "outputId": "e290c228-34a6-4d6f-c69b-b85a2d56918a"
      },
      "execution_count": null,
      "outputs": [
        {
          "output_type": "stream",
          "name": "stdout",
          "text": [
            "Python is fantastic\n"
          ]
        }
      ]
    },
    {
      "cell_type": "markdown",
      "source": [
        "Also, use the global keyword if you want to change a global variable inside a function."
      ],
      "metadata": {
        "id": "A1UVzPCoCzU-"
      }
    },
    {
      "cell_type": "code",
      "source": [
        "x = \"awesome\"\n",
        "\n",
        "def myfunc():\n",
        "  global x\n",
        "  x = \"fantastic\"\n",
        "\n",
        "myfunc()\n",
        "\n",
        "print(\"Python is \" + x)"
      ],
      "metadata": {
        "colab": {
          "base_uri": "https://localhost:8080/"
        },
        "id": "Bfjw5JwOCytm",
        "outputId": "c0d84939-f309-4137-f8ce-2ecf202046ee"
      },
      "execution_count": null,
      "outputs": [
        {
          "output_type": "stream",
          "name": "stdout",
          "text": [
            "Python is fantastic\n"
          ]
        }
      ]
    },
    {
      "cell_type": "markdown",
      "source": [
        "# **Python Data Types**\n"
      ],
      "metadata": {
        "id": "6G6Q7ji1Efd-"
      }
    },
    {
      "cell_type": "markdown",
      "source": [
        "**Built-in Data Types**"
      ],
      "metadata": {
        "id": "p_e_E5QJE2qn"
      }
    },
    {
      "cell_type": "markdown",
      "source": [
        "**Text Type**:\tstr\n",
        "\n",
        "**Numeric Types**:\tint, float, complex\n",
        "\n",
        "**Sequence Types**:\tlist, tuple, range\n",
        "\n",
        "**Mapping Type**:\tdict\n",
        "\n",
        "**Set Types**:\tset, frozenset\n",
        "\n",
        "**Boolean Type**:\tbool\n",
        "\n",
        "**Binary Types**:\tbytes, bytearray, memoryview\n",
        "\n",
        "**None Type**:\tNoneType"
      ],
      "metadata": {
        "id": "URNteUE9FBje"
      }
    },
    {
      "cell_type": "markdown",
      "source": [
        "**Python Numbers**\n",
        "\n",
        "There are three numeric types in Python:\n",
        "\n",
        "* int\n",
        "* float\n",
        "* complex"
      ],
      "metadata": {
        "id": "OJcoY9ax_Con"
      }
    },
    {
      "cell_type": "code",
      "source": [
        "x = 1    # int\n",
        "y = 2.8  # float\n",
        "z = 1j   # complex"
      ],
      "metadata": {
        "id": "1S8ctyDZc25O"
      },
      "execution_count": null,
      "outputs": []
    },
    {
      "cell_type": "markdown",
      "source": [
        "**Type Conversion**"
      ],
      "metadata": {
        "id": "wXJxNFil_wnT"
      }
    },
    {
      "cell_type": "code",
      "source": [
        "x = 1    # int\n",
        "y = 2.8  # float\n",
        "z = 1j   # complex\n",
        "\n",
        "#convert from int to float:\n",
        "a = float(x)\n",
        "\n",
        "#convert from float to int:\n",
        "b = int(y)\n",
        "\n",
        "#convert from int to complex:\n",
        "c = complex(x)\n",
        "\n",
        "print(a)\n",
        "print(b)\n",
        "print(c)\n",
        "\n",
        "print(type(a))\n",
        "print(type(b))\n",
        "print(type(c))"
      ],
      "metadata": {
        "colab": {
          "base_uri": "https://localhost:8080/"
        },
        "id": "aVej6zgb_ZFA",
        "outputId": "e63cfbe9-99e0-4bb6-c06a-291b24c16dcb"
      },
      "execution_count": null,
      "outputs": [
        {
          "output_type": "stream",
          "name": "stdout",
          "text": [
            "1.0\n",
            "2\n",
            "(1+0j)\n",
            "<class 'float'>\n",
            "<class 'int'>\n",
            "<class 'complex'>\n"
          ]
        }
      ]
    },
    {
      "cell_type": "markdown",
      "source": [
        "**Random Number**\n",
        "\n",
        "Python has a built-in module called **random** that can be used to make random numbers."
      ],
      "metadata": {
        "id": "emoywhL7AHQ4"
      }
    },
    {
      "cell_type": "code",
      "source": [
        "import random\n",
        "\n",
        "print(random.randrange(1, 10))"
      ],
      "metadata": {
        "colab": {
          "base_uri": "https://localhost:8080/"
        },
        "id": "AmU2fRuy_5-O",
        "outputId": "5d6ffe09-7117-43f1-fb98-cfc98118a9d2"
      },
      "execution_count": null,
      "outputs": [
        {
          "output_type": "stream",
          "name": "stdout",
          "text": [
            "9\n"
          ]
        }
      ]
    },
    {
      "cell_type": "markdown",
      "source": [
        "**Strings are Arrays**\n",
        "\n",
        "Python does not have a character data type, a single character is simply a string with a length of 1.\n",
        "\n",
        "Square brackets can be used to access elements of the string."
      ],
      "metadata": {
        "id": "3-nprVzrE8TF"
      }
    },
    {
      "cell_type": "code",
      "source": [
        "a = \"Hello, World!\"\n",
        "print(a[1])"
      ],
      "metadata": {
        "colab": {
          "base_uri": "https://localhost:8080/"
        },
        "id": "Zz4LulboAar0",
        "outputId": "22d55cef-3d73-4319-fa14-a19f22d8ce5f"
      },
      "execution_count": null,
      "outputs": [
        {
          "output_type": "stream",
          "name": "stdout",
          "text": [
            "e\n"
          ]
        }
      ]
    },
    {
      "cell_type": "markdown",
      "source": [
        "**Looping Through a String**\n",
        "\n",
        "Since strings are arrays, we can loop through the characters in a string, with a for loop."
      ],
      "metadata": {
        "id": "A2BbpW0yNWGO"
      }
    },
    {
      "cell_type": "code",
      "source": [
        "for x in \"banana\":\n",
        "  print(x)"
      ],
      "metadata": {
        "colab": {
          "base_uri": "https://localhost:8080/"
        },
        "id": "VbYPWTSCNKiq",
        "outputId": "7a9d8e4c-9763-446a-832a-132ca1697e57"
      },
      "execution_count": null,
      "outputs": [
        {
          "output_type": "stream",
          "name": "stdout",
          "text": [
            "b\n",
            "a\n",
            "n\n",
            "a\n",
            "n\n",
            "a\n"
          ]
        }
      ]
    },
    {
      "cell_type": "markdown",
      "source": [
        "**String Length**"
      ],
      "metadata": {
        "id": "PrjIXnzTN1Jc"
      }
    },
    {
      "cell_type": "code",
      "source": [
        "a = \"Hello, World!\"\n",
        "print(len(a))"
      ],
      "metadata": {
        "colab": {
          "base_uri": "https://localhost:8080/"
        },
        "id": "7Obi3Pg_NhdX",
        "outputId": "7b65b16f-2ffa-469a-ea05-1848d459c05c"
      },
      "execution_count": null,
      "outputs": [
        {
          "output_type": "stream",
          "name": "stdout",
          "text": [
            "13\n"
          ]
        }
      ]
    },
    {
      "cell_type": "markdown",
      "source": [
        "**Check String**\n",
        "\n",
        "To check if a certain phrase or character is present in a string, we can use the keyword **in**."
      ],
      "metadata": {
        "id": "5100o2QkOLzc"
      }
    },
    {
      "cell_type": "code",
      "source": [
        "txt = \"The best things in life are free!\"\n",
        "print(\"free\" in txt)"
      ],
      "metadata": {
        "colab": {
          "base_uri": "https://localhost:8080/"
        },
        "id": "wXNw7cLkN5xq",
        "outputId": "834292df-9f91-4889-b48f-5890a2513dff"
      },
      "execution_count": null,
      "outputs": [
        {
          "output_type": "stream",
          "name": "stdout",
          "text": [
            "True\n"
          ]
        }
      ]
    },
    {
      "cell_type": "code",
      "source": [
        "txt = \"The best things in life are free!\"\n",
        "if \"free\" in txt:\n",
        "  print(\"Yes, 'free' is present.\")"
      ],
      "metadata": {
        "colab": {
          "base_uri": "https://localhost:8080/"
        },
        "id": "eOO7EtnEQdfX",
        "outputId": "0998006c-8d00-4431-d775-dd999b78091b"
      },
      "execution_count": null,
      "outputs": [
        {
          "output_type": "stream",
          "name": "stdout",
          "text": [
            "Yes, 'free' is present.\n"
          ]
        }
      ]
    },
    {
      "cell_type": "markdown",
      "source": [
        "**Check if NOT**"
      ],
      "metadata": {
        "id": "Vl53SocaRTO-"
      }
    },
    {
      "cell_type": "code",
      "source": [
        "txt = \"The best things in life are free!\"\n",
        "print(\"expensive\" not in txt)"
      ],
      "metadata": {
        "colab": {
          "base_uri": "https://localhost:8080/"
        },
        "id": "WrBlDVQ3ROyH",
        "outputId": "7f7dc2a4-f988-46b3-85e2-d1d69533d76a"
      },
      "execution_count": null,
      "outputs": [
        {
          "output_type": "stream",
          "name": "stdout",
          "text": [
            "True\n"
          ]
        }
      ]
    },
    {
      "cell_type": "code",
      "source": [
        "txt = \"The best things in life are free!\"\n",
        "if \"expensive\" not in txt:\n",
        "  print(\"No, 'expensive' is NOT present.\")"
      ],
      "metadata": {
        "colab": {
          "base_uri": "https://localhost:8080/"
        },
        "id": "l399wQ70RaQd",
        "outputId": "de0efe66-6d0c-4361-b4ee-7614a0de5280"
      },
      "execution_count": null,
      "outputs": [
        {
          "output_type": "stream",
          "name": "stdout",
          "text": [
            "No, 'expensive' is NOT present.\n"
          ]
        }
      ]
    }
  ]
}